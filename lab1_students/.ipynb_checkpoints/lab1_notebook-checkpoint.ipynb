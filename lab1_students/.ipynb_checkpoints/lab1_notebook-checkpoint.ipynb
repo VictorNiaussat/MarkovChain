{
 "cells": [
  {
   "cell_type": "markdown",
   "metadata": {},
   "source": [
    "# Probability 2 (Data science Master, University of Lille) / CMF, (Centrale Lille, G3 SDIA)\n",
    "\n",
    "---\n",
    "\n",
    "## Lab 1 - Discrete time homogeneous Markov chains\n",
    "\n",
    "---\n",
    "\n",
    "## Guidelines (read carefully before starting)\n",
    "\n",
    "**Objectives**: numerically simulate basic Markov chains (discrete time and discrete state space).\n",
    "\n",
    "**Setup**: after retrieving the resources for the lab on moodle:\n",
    "- place the .zip archive in a local folder (Computer -> Documents/Python/);\n",
    "- unzip the archive .zip;\n",
    "- rename the folder with the convention lab1_Name1_Name2\n",
    "- duplicate the notebook file and rename it lab1_Name1_Name2.ipynb;\n",
    "- [**optional, possibly needed if working from Centrale's machines**]\n",
    "    - create a `lab1` conda environment from the provided `requirement.txt` file\n",
    "    ```bash\n",
    "    conda create --name=lab1 --file=requirement.txt\n",
    "    conda activate lab1\n",
    "    # do not forget to deactivate the environment if needed\n",
    "    # you can remove the environment once you are done\n",
    "    conda env remove --name=lab1\n",
    "    ```\n",
    "    - launch jupyter notebook (the python environment will be the one from the conda environment `lab1`)\n",
    "- at the end of the session, do not forget to transfer your work to your own network space if you are working on a machine from the school (do not leave your work on the C: drive).\n",
    "\n",
    "**Assessment** &#8594; grade /20 (possibly converted later on to a grade ranging from F to A (A+))\n",
    "\n",
    "This lab session will be evaluated, based on your answer to the exercises reported in a Jupyter notebook (e.g., this one) and any additional `.py` file produced. In particular:\n",
    "\n",
    "- make sure the notebook you produce is properly annotated: each exercise should be introduced by a short sentence summarizing its context. Concisely answer each question from the guideline. \n",
    "- **relate the numerical results to the theory covered during the lecture** whenever appropriate;\n",
    "- **codes without any explanations (in a text cell) will not be considered as a complete answer**, and will only be attributed a fraction opf the grade attributed to the question.\n",
    "- any code produced should be commented whenever appropriate;\n",
    "- include appropriate axis labels and a relevant title to each figure reported in the notebook;\n",
    "- **document any function you introduce (using docstrings)**, and comment your code whenever appropriate (see, *e.g.*, [PEP 8 style recommendations](https://www.python.org/dev/peps/pep-0008/)). \n",
    "     - use a reference docstring style, *e.g.*, the [google docstring style](https://sphinxcontrib-napoleon.readthedocs.io/en/latest/example_google.html).\n",
    "- **give a clear structure to your notebook**: longer theoretical explanations should be reported in markdown cells. Include LaTeX equations to improve the clarity of the document.\n",
    "\n",
    "**Additional evaluation criteria**:\n",
    "- Code clarity / conciseness / documentation\n",
    "- Comment quality / overall presentation    \n",
    "\n",
    "## <a name=\"content\">Contents</a>\n",
    "- [Exercise 1: Ehrenfest model](#ex1)\n",
    "- [Exercise 2: Simulation of a discrete time homogeneous Markov chain](#ex2)"
   ]
  },
  {
   "cell_type": "markdown",
   "metadata": {},
   "source": [
    "---\n",
    "## <a name=\"ex1\">Exercise 1: Ehrenfest model</a> [(&#8593;)](#content) <!-- [$\\cdot$/10] -->\n",
    " Consider a system of $K = 30$ particles (labeled from 1 to $K$) evolving in a closed box. The box is divided into two compartments in contact with each other, respectively identified by an index, $0$ and $1$. A hole at the interface between the two compartments allows the particles to move from one compartment to the other.\n",
    "\n",
    " Particle motion is modeled as follows: at each discrete time intant $n$, one particle is chosen uniformly at random and moved from its current compartment to the other. Let $X(n)$ denote the number of particles in compartment $0$ at time $n$."
   ]
  },
  {
   "cell_type": "markdown",
   "metadata": {},
   "source": [
    "1\\. <!--[$\\cdot$/0.5]--> Briefly justify that $\\bigl(X(n) \\bigr)_{n \\in \\mathbb{N}}$ is a Markov chain."
   ]
  },
  {
   "cell_type": "markdown",
   "metadata": {},
   "source": [
    "Pour décrire une chaine de Markov, on décrit son squelette et les transitions entre les différents états.\n",
    "\n",
    "![Chaine de markov du modèle d'Ehrenfest](Ehrenfest.png \"Chaine de markov du modèle d'Ehrenfest\")\n",
    "\n",
    "Avec $q = 0$\n",
    "\n",
    "Ainsi, le modèle est une chaine de Markov."
   ]
  },
  {
   "cell_type": "markdown",
   "metadata": {},
   "source": [
    "2\\. <!--[$\\cdot$/1.5]--> Is the chain irreducible? (Positive) recurrent? Aperiodic or periodic? Prove each statement from your answer (recall the main steps covered during the exercise session)."
   ]
  },
  {
   "cell_type": "markdown",
   "metadata": {},
   "source": [
    "La chaîne est irréductible car $\\forall i,j$  $   \\exists chemin $ tel que $P(i->j)>0 $\n",
    "\n",
    "La chaine est récurente car on a pour $T_0$, temps de premier retour: \n",
    "$$ P(T_0<+\\infty) = \\sum_{n=1}^{\\infty}P(T_0=n) = 1 $$\n",
    "\n",
    "La chaine est périodique de période 2 car la chaîne peut être décomposé en de sous partie sur son univers : nombre impaire et nombre pair et c'est le plus petit nombre pour décomposer l'espace des états comme ceci. Si $X_n$ est pair (resp impair), alors $X_{n+1}$ est impaire (resp pair)."
   ]
  },
  {
   "cell_type": "markdown",
   "metadata": {},
   "source": [
    "3\\. <!--[$\\cdot$/0.5]--> Recall the structure of the transition matrix, and encode it in Python (without any for loop).\n",
    "\n",
    " > Hint: use the function `numpy.diag`."
   ]
  },
  {
   "cell_type": "code",
   "execution_count": 1,
   "metadata": {},
   "outputs": [],
   "source": [
    "import numpy as np"
   ]
  },
  {
   "cell_type": "code",
   "execution_count": 2,
   "metadata": {},
   "outputs": [],
   "source": [
    "K = 30\n",
    "p=1/2\n",
    "diagonal = np.array([i/K for i in range(1,K+1)])\n",
    "P = np.diag(diagonal,k=-1)+np.diag(1+1/K-diagonal,k=1)"
   ]
  },
  {
   "cell_type": "markdown",
   "metadata": {},
   "source": [
    "4\\. <!--[$\\cdot$/0.5]-->Numerically verify that the binomial distribution $\\mathcal{B} (K, 1/2)$ is invariant for the chain. This invariant distribution will be denoted by $\\pi$ in the rest of the exercise.\n",
    "\n",
    " > Hint: you can use `scipy.stats.binom`."
   ]
  },
  {
   "cell_type": "code",
   "execution_count": 3,
   "metadata": {},
   "outputs": [],
   "source": [
    "from scipy.stats import binom \n",
    "import matplotlib.pyplot as plt"
   ]
  },
  {
   "cell_type": "code",
   "execution_count": 384,
   "metadata": {},
   "outputs": [
    {
     "data": {
      "text/plain": [
       "<BarContainer object of 31 artists>"
      ]
     },
     "execution_count": 384,
     "metadata": {},
     "output_type": "execute_result"
    },
    {
     "data": {
      "image/png": "[encoded data removed]",
      "text/plain": [
       "<Figure size 640x480 with 1 Axes>"
      ]
     },
     "metadata": {},
     "output_type": "display_data"
    }
   ],
   "source": [
    "B = binom(K, p)\n",
    "x = range(K+1)\n",
    "mu_bin = B.pmf(x)\n",
    "plt.bar(x,mu_bin)"
   ]
  },
  {
   "cell_type": "code",
   "execution_count": 14,
   "metadata": {},
   "outputs": [
    {
     "data": {
      "text/plain": [
       "array([-5.16987883e-25,  3.30872245e-24,  7.94093388e-22, -3.81164826e-21,\n",
       "        3.38813179e-20, -1.08420217e-19,  1.08420217e-19,  6.50521303e-19,\n",
       "       -3.46944695e-18, -1.21430643e-17,  2.08166817e-17,  5.55111512e-17,\n",
       "       -1.38777878e-16,  1.94289029e-16, -2.22044605e-16,  3.05311332e-16,\n",
       "       -2.49800181e-16,  2.35922393e-16, -1.52655666e-16,  1.52655666e-16,\n",
       "       -1.04083409e-16,  3.64291930e-17, -4.33680869e-18,  1.73472348e-18,\n",
       "        0.00000000e+00, -2.71050543e-20,  3.72694497e-20, -1.27054942e-21,\n",
       "        1.16467030e-21,  4.30133919e-23,  2.27474668e-24])"
      ]
     },
     "execution_count": 14,
     "metadata": {},
     "output_type": "execute_result"
    }
   ],
   "source": [
    "mu_bin.T@P - mu_bin"
   ]
  },
  {
   "cell_type": "markdown",
   "metadata": {},
   "source": [
    "On vérifie ainsi de $\\mu_{bin}$ est une mesure invariante."
   ]
  },
  {
   "cell_type": "markdown",
   "metadata": {},
   "source": [
    "5\\. <!--[$\\cdot$/2]--> Implement a Python function `ehrenfest` to simulate a trajectory of the chain for a system of $K$ particles, for initial distribution $\\mu$ (for instance a Dirac centered in $0$, meaning that the compartment $0$ is empty at $n = 0$). The maximum number of time steps will be controlled by an input parameter $n_{\\max}$. Random number generation will be controlled by a [random number generator](https://numpy.org/doc/stable/reference/random/generator.html) passed as an input to the function.\n",
    "\n",
    "For an efficient implementation, **do not use vector-matrix product with the transition matrix implemented in 3**: rely on the description of the system instead.\n"
   ]
  },
  {
   "cell_type": "code",
   "execution_count": 331,
   "metadata": {
    "scrolled": true
   },
   "outputs": [
    {
     "data": {
      "text/plain": [
       "3"
      ]
     },
     "execution_count": 331,
     "metadata": {},
     "output_type": "execute_result"
    }
   ],
   "source": [
    "def tirer_dans_mu(mu):\n",
    "    H = np.argwhere(np.cumsum(mu)<np.random.default_rng().random())\n",
    "    if len(H)==0:\n",
    "        return (0)\n",
    "    return(np.max(H))\n",
    "    \n",
    "tirer_dans_mu(mu)"
   ]
  },
  {
   "cell_type": "code",
   "execution_count": 368,
   "metadata": {},
   "outputs": [],
   "source": [
    "def ehrenfest(mu=15,Generator = np.random.default_rng(),nmax = 1000):\n",
    "    state = mu\n",
    "    Liste_Ehrenfest=[mu]\n",
    "\n",
    "    for j in range(nmax):\n",
    "        if Generator.random() < state/K:\n",
    "            state+=-1\n",
    "        else : \n",
    "            state+=1\n",
    "        Liste_Ehrenfest.append(state)\n",
    "    return(Liste_Ehrenfest)\n"
   ]
  },
  {
   "cell_type": "markdown",
   "metadata": {},
   "source": [
    "6\\. Simulate a trajectory of the chain starting in state $0$ for $n_{\\max} = 5000$. Display the result in function of the time index $n$. Briefly describe the curve you obtained."
   ]
  },
  {
   "cell_type": "code",
   "execution_count": 369,
   "metadata": {},
   "outputs": [
    {
     "data": {
      "text/plain": [
       "[<matplotlib.lines.Line2D at 0x1c3633721c0>]"
      ]
     },
     "execution_count": 369,
     "metadata": {},
     "output_type": "execute_result"
    },
    {
     "data": {
      "image/png": "[encoded data removed]",
      "text/plain": [
       "<Figure size 640x480 with 1 Axes>"
      ]
     },
     "metadata": {},
     "output_type": "display_data"
    }
   ],
   "source": [
    "simulate_ehrenfest = ehrenfest(mu=0,Generator = np.random.default_rng(),nmax = 5000)\n",
    "plt.plot(simulate_ehrenfest)"
   ]
  },
  {
   "cell_type": "markdown",
   "metadata": {},
   "source": [
    "7\\. Compare the empirical histogram of the trajectory obtained in 5. to the theoretical limit distribution $\\pi$. What do you observe?"
   ]
  },
  {
   "cell_type": "code",
   "execution_count": 382,
   "metadata": {},
   "outputs": [
    {
     "data": {
      "image/png": "[encoded data removed]",
      "text/plain": [
       "<Figure size 640x480 with 1 Axes>"
      ]
     },
     "metadata": {},
     "output_type": "display_data"
    }
   ],
   "source": [
    "hist = plt.hist(simulate_ehrenfest,density=True,bins=K-5)"
   ]
  },
  {
   "cell_type": "markdown",
   "metadata": {},
   "source": [
    "On observe à la limite la distribution semble décrire la distribution de la loi binomiale."
   ]
  },
  {
   "cell_type": "code",
   "execution_count": 400,
   "metadata": {},
   "outputs": [
    {
     "data": {
      "image/png": "[encoded data removed]",
      "text/plain": [
       "<Figure size 640x480 with 1 Axes>"
      ]
     },
     "metadata": {},
     "output_type": "display_data"
    }
   ],
   "source": [
    "plt.hist(simulate_ehrenfest,density=True,bins=K-5,color=\"red\",label=\"Histogramme de densité des valeurs simulées\")\n",
    "plt.bar(x,mu_bin,color = \"grey\",label=\"Histogramme loi binomiale\")\n",
    "plt.legend()\n",
    "plt.show()"
   ]
  },
  {
   "cell_type": "markdown",
   "metadata": {},
   "source": [
    "8\\. a) Modify the function defined in 1. so that it returns the return time to state 0, defined as $T_{0,0} = \\inf \\bigl\\{ n > 0, X(n) = 0 \\mid X(0) = 0 \\bigr\\}$."
   ]
  },
  {
   "cell_type": "code",
   "execution_count": null,
   "metadata": {},
   "outputs": [],
   "source": [
    "def return_time_0(K=30,mu=15,retour=15,Generator = np.random.default_rng(),nmax = 1000):\n",
    "    state = mu\n",
    "    Liste_Ehrenfest=[mu]\n",
    "\n",
    "    for j in range(nmax):\n",
    "        if Generator.random() < state/K:\n",
    "            state+=-1\n",
    "        else : \n",
    "            state+=1\n",
    "        Liste_Ehrenfest.append(state)\n",
    "    return(Liste_Ehrenfest)\n"
   ]
  },
  {
   "cell_type": "markdown",
   "metadata": {},
   "source": [
    "8\\. b) [**Optional**] Run several chains (about 5, ideally in parallel) for $K = 10$, $n_{\\max} = 5000$, and compare the empirical average of $T_{0,0}$ to $\\pi(0)$. What do you observe?\n",
    " > Hint: a good tutorial showing how to run functions in parallel in Python is available [here](https://www.machinelearningplus.com/python/parallel-processing-python/)."
   ]
  },
  {
   "cell_type": "code",
   "execution_count": null,
   "metadata": {},
   "outputs": [],
   "source": []
  },
  {
   "cell_type": "markdown",
   "metadata": {},
   "source": [
    "8\\. c) Comment on the possibility of numerically observing the chain returning to its initial state as $K$ increases."
   ]
  },
  {
   "cell_type": "markdown",
   "metadata": {},
   "source": [
    "..."
   ]
  },
  {
   "cell_type": "markdown",
   "metadata": {},
   "source": [
    "---\n",
    "## <a name=\"ex2\">Exercise 2: Simulation of a discrete time homogeneous Markov chain</a> [(&#8593;)](#content)\n",
    " Let $\\bigl( X(n) \\bigr)_{n \\in \\mathbb{N}}$ be a discrete time homogeneous Markov chain defined by the following initial distribution $\\mu$ and transition matrix $P$\n",
    "\n",
    "$$\n",
    "     \\mu = [0, 1, 0, 0, 0, 0], \n",
    "     %\n",
    "     \\quad\n",
    "     %\n",
    "     P = \\begin{pmatrix}\n",
    "       1/2   & 1/2 &0  &0   &0   &0   \\\\\n",
    "\t \t1/4 &0   &0  &1/4 &1/4 &1/4   \\\\\n",
    "       1/2   &0   &0  &0   &0   &1/2 \\\\\n",
    "       0   &1/2 &0  &0   &1/2 &0   \\\\\n",
    "       0   &1/3 &0  &1/3 &0   &1/3 \\\\\n",
    "       0   &1/3 &1/3  & 0 &1/3   &0\n",
    "     \\end{pmatrix}.\n",
    " $$"
   ]
  },
  {
   "cell_type": "markdown",
   "metadata": {},
   "source": [
    "1\\. What can you say about the Markov chain $X$? (irreducibility, positive recurrence, periodicity, ...). Justify each of your claim, citing the relevant results from the lecture."
   ]
  },
  {
   "cell_type": "markdown",
   "metadata": {},
   "source": [
    "2\\. Write a function `simulate_dthmc` simulating the trajectory of the Markov chain $\\bigl( X(n) \\bigr)_{n \\in \\mathbb{N}}$ for $n_{\\max}$ time steps. The signature of the function should include the following elements:\n",
    "   - list of inputs: transition matrix $P$, initial distribution $\\mu$, number of time steps $n_{\\max}$, [random number generator](https://numpy.org/doc/stable/reference/random/generator.html);\n",
    "   - output: array of lenght $n_{\\max}$ representing the trajectory.\n",
    "   \n",
    "**To this end, do not use matrix vector products, which would lead to an extremely inefficient algorithm in this case.**\n",
    "   "
   ]
  },
  {
   "cell_type": "code",
   "execution_count": null,
   "metadata": {},
   "outputs": [],
   "source": []
  },
  {
   "cell_type": "markdown",
   "metadata": {},
   "source": [
    "3\\. Simulate a trajectory of the chain for $n_{\\max} = 2000$ starting from $X(0) = 1$. Plot the histogram of the states visited by the chain.\n",
    " "
   ]
  },
  {
   "cell_type": "code",
   "execution_count": null,
   "metadata": {},
   "outputs": [],
   "source": []
  },
  {
   "cell_type": "markdown",
   "metadata": {},
   "source": [
    "4\\. Determine numerically an invariant distribution $\\boldsymbol{\\pi}$ of the chain (*e.g.*, based on an eigendecomposition [numpy.linalg.eig](https://docs.scipy.org/doc/numpy/reference/generated/numpy.linalg.eig.html)). Is it unique? Compare it to the histogram obtained in 2 (superimpose graphs). What can you conclude?\n",
    " "
   ]
  },
  {
   "cell_type": "code",
   "execution_count": null,
   "metadata": {},
   "outputs": [],
   "source": []
  },
  {
   "cell_type": "markdown",
   "metadata": {},
   "source": [
    "5\\. a) Compute $\\mu_n \\triangleq \\mu P^n$, the probability distribution of $X(n)$. What is the limit of $\\mu_n$ as $n$ goes to $+\\infty$? Illustrate the result numerically.\n"
   ]
  },
  {
   "cell_type": "code",
   "execution_count": null,
   "metadata": {},
   "outputs": [],
   "source": []
  },
  {
   "cell_type": "markdown",
   "metadata": {},
   "source": [
    "5\\. b) Display on the same graph the curves $n \\mapsto \\mu_n(i)$ for $i = 1, \\dotsc , 6$, and compare with $\\pi$. Display on another graph the function $n \\mapsto \\Vert \\mu_n - \\pi \\Vert_1$, where $\\Vert \\cdot \\Vert_1$ is the $\\ell_1$ norm. What does each of these curves illustrate?\n",
    "  "
   ]
  },
  {
   "cell_type": "code",
   "execution_count": null,
   "metadata": {},
   "outputs": [],
   "source": []
  },
  {
   "cell_type": "markdown",
   "metadata": {},
   "source": [
    "6\\. For each state $i \\in \\{1, \\dotsc, 5 \\}$, simulate 100 trajectories starting from the state $i$ until the return time to $i$. For each state, compute the (empirical) average return time. Compare with its theoretical value.\n",
    " "
   ]
  },
  {
   "cell_type": "code",
   "execution_count": null,
   "metadata": {},
   "outputs": [],
   "source": []
  }
 ],
 "metadata": {
  "file_extension": ".py",
  "kernelspec": {
   "display_name": "Python 3 (ipykernel)",
   "language": "python",
   "name": "python3"
  },
  "language_info": {
   "codemirror_mode": {
    "name": "ipython",
    "version": 3
   },
   "file_extension": ".py",
   "mimetype": "text/x-python",
   "name": "python",
   "nbconvert_exporter": "python",
   "pygments_lexer": "ipython3",
   "version": "3.9.13"
  },
  "mimetype": "text/x-python",
  "name": "python",
  "npconvert_exporter": "python",
  "pygments_lexer": "ipython3",
  "version": 3
 },
 "nbformat": 4,
 "nbformat_minor": 4
}
