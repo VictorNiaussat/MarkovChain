{
 "cells": [
  {
   "cell_type": "markdown",
   "metadata": {},
   "source": [
    "# Probability 2 (Data science Master, University of Lille) / CMF, (Centrale Lille, G3 SDIA)\n",
    "\n",
    "---\n",
    "\n",
    "## Lab 1 - Discrete time homogeneous Markov chains\n",
    "\n",
    "---\n",
    "\n",
    "## Guidelines (read carefully before starting)\n",
    "\n",
    "**Objectives**: numerically simulate basic Markov chains (discrete time and discrete state space).\n",
    "\n",
    "**Setup**: after retrieving the resources for the lab on moodle:\n",
    "- place the .zip archive in a local folder (Computer -> Documents/Python/);\n",
    "- unzip the archive .zip;\n",
    "- rename the folder with the convention lab1_Name1_Name2\n",
    "- duplicate the notebook file and rename it lab1_Name1_Name2.ipynb;\n",
    "- [**optional, possibly needed if working from Centrale's machines**]\n",
    "    - create a `lab1` conda environment from the provided `requirement.txt` file\n",
    "    ```bash\n",
    "    conda create --name=lab1 --file=requirement.txt\n",
    "    conda activate lab1\n",
    "    # do not forget to deactivate the environment if needed\n",
    "    # you can remove the environment once you are done\n",
    "    conda env remove --name=lab1\n",
    "    ```\n",
    "    - launch jupyter notebook (the python environment will be the one from the conda environment `lab1`)\n",
    "- at the end of the session, do not forget to transfer your work to your own network space if you are working on a machine from the school (do not leave your work on the C: drive).\n",
    "\n",
    "**Assessment** &#8594; grade /20 (possibly converted later on to a grade ranging from F to A (A+))\n",
    "\n",
    "This lab session will be evaluated, based on your answer to the exercises reported in a Jupyter notebook (e.g., this one) and any additional `.py` file produced. In particular:\n",
    "\n",
    "- make sure the notebook you produce is properly annotated: each exercise should be introduced by a short sentence summarizing its context. Concisely answer each question from the guideline. \n",
    "- **relate the numerical results to the theory covered during the lecture** whenever appropriate;\n",
    "- **codes without any explanations (in a text cell) will not be considered as a complete answer**, and will only be attributed a fraction opf the grade attributed to the question.\n",
    "- any code produced should be commented whenever appropriate;\n",
    "- include appropriate axis labels and a relevant title to each figure reported in the notebook;\n",
    "- **document any function you introduce (using docstrings)**, and comment your code whenever appropriate (see, *e.g.*, [PEP 8 style recommendations](https://www.python.org/dev/peps/pep-0008/)). \n",
    "     - use a reference docstring style, *e.g.*, the [google docstring style](https://sphinxcontrib-napoleon.readthedocs.io/en/latest/example_google.html).\n",
    "- **give a clear structure to your notebook**: longer theoretical explanations should be reported in markdown cells. Include LaTeX equations to improve the clarity of the document.\n",
    "\n",
    "**Additional evaluation criteria**:\n",
    "- Code clarity / conciseness / documentation\n",
    "- Comment quality / overall presentation    \n",
    "\n",
    "## <a name=\"content\">Contents</a>\n",
    "- [Exercise 1: Ehrenfest model](#ex1)\n",
    "- [Exercise 2: Simulation of a discrete time homogeneous Markov chain](#ex2)"
   ]
  },
  {
   "cell_type": "markdown",
   "metadata": {},
   "source": [
    "---\n",
    "## <a name=\"ex1\">Exercise 1: Ehrenfest model</a> [(&#8593;)](#content) <!-- [$\\cdot$/10] -->\n",
    " Consider a system of $K = 30$ particles (labeled from 1 to $K$) evolving in a closed box. The box is divided into two compartments in contact with each other, respectively identified by an index, $0$ and $1$. A hole at the interface between the two compartments allows the particles to move from one compartment to the other.\n",
    "\n",
    " Particle motion is modeled as follows: at each discrete time intant $n$, one particle is chosen uniformly at random and moved from its current compartment to the other. Let $X(n)$ denote the number of particles in compartment $0$ at time $n$."
   ]
  },
  {
   "cell_type": "markdown",
   "metadata": {},
   "source": [
    "1\\. <!--[$\\cdot$/0.5]--> Briefly justify that $\\bigl(X(n) \\bigr)_{n \\in \\mathbb{N}}$ is a Markov chain."
   ]
  },
  {
   "cell_type": "markdown",
   "metadata": {},
   "source": [
    "..."
   ]
  },
  {
   "cell_type": "markdown",
   "metadata": {},
   "source": [
    "2\\. <!--[$\\cdot$/1.5]--> Is the chain irreducible? (Positive) recurrent? Aperiodic or periodic? Prove each statement from your answer (recall the main steps covered during the exercise session)."
   ]
  },
  {
   "cell_type": "markdown",
   "metadata": {},
   "source": [
    "..."
   ]
  },
  {
   "cell_type": "markdown",
   "metadata": {},
   "source": [
    "3\\. <!--[$\\cdot$/0.5]--> Recall the structure of the transition matrix, and encode it in Python (without any for loop).\n",
    "\n",
    " > Hint: use the function `numpy.diag`."
   ]
  },
  {
   "cell_type": "code",
   "execution_count": 3,
   "metadata": {},
   "outputs": [],
   "source": [
    "import numpy as np"
   ]
  },
  {
   "cell_type": "code",
   "execution_count": 24,
   "metadata": {},
   "outputs": [],
   "source": [
    "K = 30\n",
    "p=1/2\n",
    "diagonal = np.array([i/K for i in range(1,K+1)])\n",
    "P = np.diag(diagonal,k=-1)+np.diag(1+1/K-diagonal,k=1)"
   ]
  },
  {
   "cell_type": "markdown",
   "metadata": {},
   "source": [
    "4\\. <!--[$\\cdot$/0.5]-->Numerically verify that the binomial distribution $\\mathcal{B} (K, 1/2)$ is invariant for the chain. This invariant distribution will be denoted by $\\pi$ in the rest of the exercise.\n",
    "\n",
    " > Hint: you can use `scipy.stats.binom`."
   ]
  },
  {
   "cell_type": "code",
   "execution_count": 42,
   "metadata": {},
   "outputs": [],
   "source": [
    "from scipy.stats import binom \n",
    "import matplotlib.pyplot as plt"
   ]
  },
  {
   "cell_type": "code",
   "execution_count": 44,
   "metadata": {},
   "outputs": [
    {
     "data": {
      "text/plain": [
       "<BarContainer object of 31 artists>"
      ]
     },
     "execution_count": 44,
     "metadata": {},
     "output_type": "execute_result"
    },
    {
     "data": {
      "image/png": "[encoded data removed]",
      "text/plain": [
       "<Figure size 640x480 with 1 Axes>"
      ]
     },
     "metadata": {},
     "output_type": "display_data"
    }
   ],
   "source": [
    "B = binom(K, p)\n",
    "x = range(K+1)\n",
    "Distribution = B.pmf(x)\n",
    "plt.bar(x,Distribution)"
   ]
  },
  {
   "cell_type": "code",
   "execution_count": 45,
   "metadata": {},
   "outputs": [
    {
     "data": {
      "text/plain": [
       "array([2.79396772e-08, 3.91652187e-07, 3.53095432e-06, 2.30111182e-05,\n",
       "       1.15527337e-04, 4.65083867e-04, 1.54333301e-03, 4.30810265e-03,\n",
       "       1.02769490e-02, 2.12224089e-02, 3.83586157e-02, 6.12768792e-02,\n",
       "       8.72712862e-02, 1.11653078e-01, 1.29097397e-01, 1.35435420e-01,\n",
       "       1.29097397e-01, 1.11653078e-01, 8.72712862e-02, 6.12768792e-02,\n",
       "       3.83586157e-02, 2.12224089e-02, 1.02769490e-02, 4.30810265e-03,\n",
       "       1.54333301e-03, 4.65083867e-04, 1.15527337e-04, 2.30111182e-05,\n",
       "       3.53095432e-06, 3.91652187e-07, 2.79396772e-08])"
      ]
     },
     "execution_count": 45,
     "metadata": {},
     "output_type": "execute_result"
    }
   ],
   "source": [
    "P@Distribution"
   ]
  },
  {
   "cell_type": "markdown",
   "metadata": {},
   "source": [
    "5\\. <!--[$\\cdot$/2]--> Implement a Python function `ehrenfest` to simulate a trajectory of the chain for a system of $K$ particles, for initial distribution $\\mu$ (for instance a Dirac centered in $0$, meaning that the compartment $0$ is empty at $n = 0$). The maximum number of time steps will be controlled by an input parameter $n_{\\max}$. Random number generation will be controlled by a [random number generator](https://numpy.org/doc/stable/reference/random/generator.html) passed as an input to the function.\n",
    "\n",
    "For an efficient implementation, **do not use vector-matrix product with the transition matrix implemented in 3**: rely on the description of the system instead.\n"
   ]
  },
  {
   "cell_type": "code",
   "execution_count": 54,
   "metadata": {},
   "outputs": [
    {
     "data": {
      "text/plain": [
       "[<matplotlib.lines.Line2D at 0x1f561fb8640>]"
      ]
     },
     "execution_count": 54,
     "metadata": {},
     "output_type": "execute_result"
    },
    {
     "data": {
      "image/png": "[encoded data removed]",
      "text/plain": [
       "<Figure size 640x480 with 1 Axes>"
      ]
     },
     "metadata": {},
     "output_type": "display_data"
    }
   ],
   "source": [
    "mu = 15\n",
    "nmax = 100\n",
    "Generator = np.random.default_rng()\n",
    "Ehrenfest = mu\n",
    "Liste_Ehrenfest=[mu]\n",
    "\n",
    "for j in range(nmax):\n",
    "    if Ehrenfest< K and Ehrenfest>0:\n",
    "        if Generator.random() < Ehrenfest/K:\n",
    "            Ehrenfest+=-1\n",
    "        else : \n",
    "            Ehrenfest+=1\n",
    "    Liste_Ehrenfest.append(Ehrenfest)\n",
    "\n",
    "plt.plot(Liste_Ehrenfest)\n",
    "\n"
   ]
  },
  {
   "cell_type": "markdown",
   "metadata": {},
   "source": [
    "6\\. Simulate a trajectory of the chain starting in state $0$ for $n_{\\max} = 5000$. Display the result in function of the time index $n$. Briefly describe the curve you obtained."
   ]
  },
  {
   "cell_type": "markdown",
   "metadata": {},
   "source": [
    "7\\. Compare the empirical histogram of the trajectory obtained in 5. to the theoretical limit distribution $\\pi$. What do you observe?"
   ]
  },
  {
   "cell_type": "code",
   "execution_count": null,
   "metadata": {},
   "outputs": [],
   "source": []
  },
  {
   "cell_type": "markdown",
   "metadata": {},
   "source": [
    "8\\. a) Modify the function defined in 1. so that it returns the return time to state 0, defined as $T_{0,0} = \\inf \\bigl\\{ n > 0, X(n) = 0 \\mid X(0) = 0 \\bigr\\}$."
   ]
  },
  {
   "cell_type": "code",
   "execution_count": null,
   "metadata": {},
   "outputs": [],
   "source": []
  },
  {
   "cell_type": "markdown",
   "metadata": {},
   "source": [
    "8\\. b) [**Optional**] Run several chains (about 5, ideally in parallel) for $K = 10$, $n_{\\max} = 5000$, and compare the empirical average of $T_{0,0}$ to $\\pi(0)$. What do you observe?\n",
    " > Hint: a good tutorial showing how to run functions in parallel in Python is available [here](https://www.machinelearningplus.com/python/parallel-processing-python/)."
   ]
  },
  {
   "cell_type": "code",
   "execution_count": null,
   "metadata": {},
   "outputs": [],
   "source": []
  },
  {
   "cell_type": "markdown",
   "metadata": {},
   "source": [
    "8\\. c) Comment on the possibility of numerically observing the chain returning to its initial state as $K$ increases."
   ]
  },
  {
   "cell_type": "markdown",
   "metadata": {},
   "source": [
    "..."
   ]
  },
  {
   "cell_type": "markdown",
   "metadata": {},
   "source": [
    "---\n",
    "## <a name=\"ex2\">Exercise 2: Simulation of a discrete time homogeneous Markov chain</a> [(&#8593;)](#content)\n",
    " Let $\\bigl( X(n) \\bigr)_{n \\in \\mathbb{N}}$ be a discrete time homogeneous Markov chain defined by the following initial distribution $\\mu$ and transition matrix $P$\n",
    "\n",
    "$$\n",
    "     \\mu = [0, 1, 0, 0, 0, 0], \n",
    "     %\n",
    "     \\quad\n",
    "     %\n",
    "     P = \\begin{pmatrix}\n",
    "       1/2   & 1/2 &0  &0   &0   &0   \\\\\n",
    "\t \t1/4 &0   &0  &1/4 &1/4 &1/4   \\\\\n",
    "       1/2   &0   &0  &0   &0   &1/2 \\\\\n",
    "       0   &1/2 &0  &0   &1/2 &0   \\\\\n",
    "       0   &1/3 &0  &1/3 &0   &1/3 \\\\\n",
    "       0   &1/3 &1/3  & 0 &1/3   &0\n",
    "     \\end{pmatrix}.\n",
    " $$"
   ]
  },
  {
   "cell_type": "markdown",
   "metadata": {},
   "source": [
    "1\\. What can you say about the Markov chain $X$? (irreducibility, positive recurrence, periodicity, ...). Justify each of your claim, citing the relevant results from the lecture."
   ]
  },
  {
   "cell_type": "markdown",
   "metadata": {},
   "source": [
    "2\\. Write a function `simulate_dthmc` simulating the trajectory of the Markov chain $\\bigl( X(n) \\bigr)_{n \\in \\mathbb{N}}$ for $n_{\\max}$ time steps. The signature of the function should include the following elements:\n",
    "   - list of inputs: transition matrix $P$, initial distribution $\\mu$, number of time steps $n_{\\max}$, [random number generator](https://numpy.org/doc/stable/reference/random/generator.html);\n",
    "   - output: array of lenght $n_{\\max}$ representing the trajectory.\n",
    "   \n",
    "**To this end, do not use matrix vector products, which would lead to an extremely inefficient algorithm in this case.**\n",
    "   "
   ]
  },
  {
   "cell_type": "code",
   "execution_count": null,
   "metadata": {},
   "outputs": [],
   "source": []
  },
  {
   "cell_type": "markdown",
   "metadata": {},
   "source": [
    "3\\. Simulate a trajectory of the chain for $n_{\\max} = 2000$ starting from $X(0) = 1$. Plot the histogram of the states visited by the chain.\n",
    " "
   ]
  },
  {
   "cell_type": "code",
   "execution_count": null,
   "metadata": {},
   "outputs": [],
   "source": []
  },
  {
   "cell_type": "markdown",
   "metadata": {},
   "source": [
    "4\\. Determine numerically an invariant distribution $\\boldsymbol{\\pi}$ of the chain (*e.g.*, based on an eigendecomposition [numpy.linalg.eig](https://docs.scipy.org/doc/numpy/reference/generated/numpy.linalg.eig.html)). Is it unique? Compare it to the histogram obtained in 2 (superimpose graphs). What can you conclude?\n",
    " "
   ]
  },
  {
   "cell_type": "code",
   "execution_count": null,
   "metadata": {},
   "outputs": [],
   "source": []
  },
  {
   "cell_type": "markdown",
   "metadata": {},
   "source": [
    "5\\. a) Compute $\\mu_n \\triangleq \\mu P^n$, the probability distribution of $X(n)$. What is the limit of $\\mu_n$ as $n$ goes to $+\\infty$? Illustrate the result numerically.\n"
   ]
  },
  {
   "cell_type": "code",
   "execution_count": null,
   "metadata": {},
   "outputs": [],
   "source": []
  },
  {
   "cell_type": "markdown",
   "metadata": {},
   "source": [
    "5\\. b) Display on the same graph the curves $n \\mapsto \\mu_n(i)$ for $i = 1, \\dotsc , 6$, and compare with $\\pi$. Display on another graph the function $n \\mapsto \\Vert \\mu_n - \\pi \\Vert_1$, where $\\Vert \\cdot \\Vert_1$ is the $\\ell_1$ norm. What does each of these curves illustrate?\n",
    "  "
   ]
  },
  {
   "cell_type": "code",
   "execution_count": null,
   "metadata": {},
   "outputs": [],
   "source": []
  },
  {
   "cell_type": "markdown",
   "metadata": {},
   "source": [
    "6\\. For each state $i \\in \\{1, \\dotsc, 5 \\}$, simulate 100 trajectories starting from the state $i$ until the return time to $i$. For each state, compute the (empirical) average return time. Compare with its theoretical value.\n",
    " "
   ]
  },
  {
   "cell_type": "code",
   "execution_count": null,
   "metadata": {},
   "outputs": [],
   "source": []
  }
 ],
 "metadata": {
  "file_extension": ".py",
  "kernelspec": {
   "display_name": "Python 3 (ipykernel)",
   "language": "python",
   "name": "python3"
  },
  "language_info": {
   "codemirror_mode": {
    "name": "ipython",
    "version": 3
   },
   "file_extension": ".py",
   "mimetype": "text/x-python",
   "name": "python",
   "nbconvert_exporter": "python",
   "pygments_lexer": "ipython3",
   "version": "3.9.13"
  },
  "mimetype": "text/x-python",
  "name": "python",
  "npconvert_exporter": "python",
  "pygments_lexer": "ipython3",
  "version": 3
 },
 "nbformat": 4,
 "nbformat_minor": 4
}
