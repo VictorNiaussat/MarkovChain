{
 "cells": [
  {
   "cell_type": "markdown",
   "metadata": {},
   "source": [
    "# Probability 2 (Master Data science, University of Lille) / CMF (Centrale Lille, G3 SDIA)\n",
    "\n",
    "---\n",
    "\n",
    "## Lab 2 - Queues, Metropolis-Hastings and simulated annealing\n",
    "\n",
    "---\n",
    "\n",
    "## Guidelines (read carefully before starting)\n",
    "\n",
    "**Objectives**: numerically simulate queues, implement an example of a Metropolis-Hasting algorithm and simulated annealing.\n",
    "\n",
    "**Setup**: after retrieving the resources for the lab on moodle:\n",
    "- place the .zip archive in a local folder (Computer -> Documents/Python/);\n",
    "- unzip the archive .zip;\n",
    "- rename the folder with the convention lab2_Name1_Name2\n",
    "- duplicate the notebook file and rename it lab2_Name1_Name2.ipynb;\n",
    "- [**optional, possibly needed if working from Centrale's machines**]\n",
    "    - create a `lab2` conda environment from the provided `requirement.txt` file\n",
    "    ```bash\n",
    "    conda create --name=lab2 --file=requirement.txt\n",
    "    conda activate lab2\n",
    "    # do not forget to deactivate the environment if needed\n",
    "    # you can remove the environment once you are done\n",
    "    conda env remove --name=lab2\n",
    "    ```\n",
    "    - launch jupyter notebook (the python environment will be the one from the conda environment `lab2`)\n",
    "- at the end of the session, do not forget to transfer your work to your own network space if you are working on a machine from the school (do not leave your work on the C: drive).\n",
    "\n",
    "**Assessment** &#8594; grade /20 (possibly converted later on to a grade ranging from F to A (A+))\n",
    "\n",
    "This lab session will be evaluated, based on your answer to the exercises reported in a Jupyter notebook (e.g., this one) and any additional `.py` file produced. In particular:\n",
    "\n",
    "- make sure the notebook you produce is properly annotated: each exercise should be introduced by a short sentence summarizing its context. Concisely answer each question from the guideline. \n",
    "- **relate the numerical results to the theory covered during the lecture** whenever appropriate;\n",
    "- **codes without any explanations (in a text cell) will not be considered as a complete answer**, and will only be attributed a fraction opf the grade attributed to the question.\n",
    "- any code produced should be commented whenever appropriate;\n",
    "- include appropriate axis labels and a relevant title to each figure reported in the notebook;\n",
    "- **document any function you introduce (using docstrings)**, and comment your code whenever appropriate (see, *e.g.*, [PEP 8 style recommendations](https://www.python.org/dev/peps/pep-0008/)). \n",
    "     - use a reference docstring style, *e.g.*, the [google docstring style](https://sphinxcontrib-napoleon.readthedocs.io/en/latest/example_google.html).\n",
    "- **give a clear structure to your notebook**: longer theoretical explanations should be reported in markdown cells. Include LaTeX equations to improve the clarity of the document.\n",
    "\n",
    "**Additional evaluation criteria**:\n",
    "- Code clarity / conciseness / documentation\n",
    "- Comment quality / overall presentation\n",
    "\n",
    "## <a name=\"content\">Contents</a>\n",
    "- [Exercise 1: Simulating $M/M/1/\\infty$ and $M/M/1/K$ queues](#ex1)\n",
    "- [Exercise 2: Drawing samples from the Ising model with the Metropolis-Hasings algorithm](#ex2)\n",
    "- [Exercise 3: Simulated annealing for the *traveling salesman* problem](#ex3)"
   ]
  },
  {
   "cell_type": "code",
   "execution_count": 1,
   "metadata": {},
   "outputs": [],
   "source": [
    "# \"IPython magic command\" to automatically reload any module whose\n",
    "# implementation has been modified during the execution of the notebook\n",
    "%load_ext autoreload\n",
    "%autoreload 2"
   ]
  },
  {
   "cell_type": "code",
   "execution_count": 2,
   "metadata": {},
   "outputs": [],
   "source": [
    "import numpy as np\n",
    "from matplotlib import pyplot as plt"
   ]
  },
  {
   "cell_type": "markdown",
   "metadata": {},
   "source": [
    "---\n",
    "## <a name=\"ex1\">Exercise 1: Simulating $M/M/1/\\infty$ and $M/M/1/K$ queues</a> [(&#8593;)](#content)\n",
    "\n",
    "This exercise will focus on simulating an $M/M/1/\\infty$ and an $M/M/1/K$ queue to illustrate some of the results covered in lecture 5. <!--in Chapter 2 and in TD.3-->\n",
    "\n",
    "In the following, the parameter of the exponential distributions governing the inter-arrival and service times will be denoted $\\lambda$ and $\\mu$ respectively, with $0< \\lambda < \\mu $. The time instants at which changes occur in the process $X(t)$ will be denoted by $T_n$ for $n \\in \\mathbb{N}$. We further define:\n",
    "\n",
    "\\begin{equation}\n",
    "    \\rho = \\frac{\\lambda}{\\mu}, \\; X_n = X(T_n).\n",
    "\\end{equation}\n",
    "\n",
    "### $M/M/1/\\infty$-queue\n",
    "\n",
    "1\\. a) Using the lecture notes, implement a function to simulate a trajectory $X(t)$ of an $M/M/1/\\infty$ process, where $X(t)$ represents the number of customers in the system at time $t$. <!--  from Chapter 2, Section 2.3.1 -->\n",
    "\n",
    "> *Remark*: the signature of the function could be of the form:\n",
    "``` python\n",
    "def run_mm1inf(lambd: float, mu: float, rng, niter: int):\n",
    "    \"\"\"\n",
    "    Args:\n",
    "        lambd (float): birth rate.\n",
    "        mu (float): death rate\n",
    "        rng (int): random seed (or random generator).\n",
    "        niter (int): number of changes (events) in \n",
    "                     the process.\n",
    "    Raises:\n",
    "        ValueError: error triggered if lambd <= 0.\n",
    "        ValueError: error triggered if mu <= 0.\n",
    "    Returns:\n",
    "        X (array_like): trajectory (X(t_n)).\n",
    "        T (array_like): time instants at which a change in \n",
    "                        the process occurs (t_n).\n",
    "    \"\"\" \n",
    "```"
   ]
  },
  {
   "cell_type": "code",
   "execution_count": 65,
   "metadata": {},
   "outputs": [],
   "source": [
    "def run_mm1inf(lambd: float, mu: float, rng, niter: int):\n",
    "    assert lambd>0\n",
    "    assert mu >0\n",
    "    nb_personne = 0\n",
    "    \n",
    "    T,X=[0],[nb_personne]\n",
    "    \n",
    "    \n",
    "    \n",
    "    for i in range(niter):\n",
    "        if X[-1] == 0:\n",
    "            T.append(T[-1]+rng.exponential(lambd))\n",
    "            X.append(X[-1]+1)\n",
    "        else:\n",
    "            Tb = rng.exponential(lambd)\n",
    "            Td = rng.exponential(mu)\n",
    "            if Tb>Td : \n",
    "                T.append(T[-1]+Tb)\n",
    "                X.append(X[-1]+1)\n",
    "            else:\n",
    "                T.append(T[-1]+Td)\n",
    "                X.append(X[-1]-1)\n",
    "    return(np.array(X),np.array(T))"
   ]
  },
  {
   "cell_type": "markdown",
   "metadata": {},
   "source": [
    "b) Display the generated trajectory of the process for $(\\lambda,\\mu) = (5, 6)$ (e.g., use only the last 100 samples of the trajectory to obtain a representative illustration).\n",
    "\n",
    "> *Hint*: use the function `step` from the matlplotlib library."
   ]
  },
  {
   "cell_type": "code",
   "execution_count": 84,
   "metadata": {},
   "outputs": [
    {
     "data": {
      "text/plain": [
       "[<matplotlib.lines.Line2D at 0x1fbdcb8b160>]"
      ]
     },
     "execution_count": 84,
     "metadata": {},
     "output_type": "execute_result"
    },
    {
     "data": {
      "image/png": "[encoded data removed]",
      "text/plain": [
       "<Figure size 640x480 with 1 Axes>"
      ]
     },
     "metadata": {},
     "output_type": "display_data"
    }
   ],
   "source": [
    "lambd_mm1inf = 5\n",
    "mu_mm1inf = 6\n",
    "rng = np.random.default_rng(1200)\n",
    "rho_mm1inf = lambd_mm1inf/mu_mm1inf\n",
    "\n",
    "X_mm1inf,T_mm1inf = run_mm1inf(lambd_mm1inf, mu_mm1inf, rng, niter=100)\n",
    "plt.step(T_mm1inf,X_mm1inf)"
   ]
  },
  {
   "cell_type": "markdown",
   "metadata": {},
   "source": [
    "2\\. a) Display on the same graph the normalized histogram of $X(t)$ and it's stationary distribution $\\pi$ defined by (see Proposition 2.1 in lecture 5)\n",
    "\n",
    "\\begin{equation}\n",
    "    (\\forall i \\in \\mathbb{N}), \\; \\pi(i) = (1 - \\rho)\\rho^i.\n",
    "\\end{equation}\n",
    "\n",
    "What does this graph illustrate?"
   ]
  },
  {
   "cell_type": "code",
   "execution_count": 85,
   "metadata": {},
   "outputs": [
    {
     "data": {
      "text/plain": [
       "[<matplotlib.lines.Line2D at 0x1fbdcc60af0>]"
      ]
     },
     "execution_count": 85,
     "metadata": {},
     "output_type": "execute_result"
    },
    {
     "data": {
      "image/png": "[encoded data removed]",
      "text/plain": [
       "<Figure size 640x480 with 1 Axes>"
      ]
     },
     "metadata": {},
     "output_type": "display_data"
    }
   ],
   "source": [
    "stationary_distrib_mm1inf = lambda i,rho_mm1inf : (1-rho_mm1inf)*rho_mm1inf**i \n",
    "valeurs_prises_mm1inf = np.unique(X_mm1inf)\n",
    "\n",
    "plt.hist(X_mm1inf,bins=valeurs_prises_mm1inf,density=True)\n",
    "plt.plot(valeurs_prises_mm1inf,stationary_distrib_mm1inf(valeurs_prises_mm1inf,rho_mm1inf))"
   ]
  },
  {
   "cell_type": "markdown",
   "metadata": {},
   "source": [
    "b) Empirically evaluate the average number of customers, whose value should be close close to the theoretical value $\\frac{\\rho}{1-\\rho}$ (see Definition 2.3 p. 2 in lecture 5)."
   ]
  },
  {
   "cell_type": "code",
   "execution_count": 86,
   "metadata": {},
   "outputs": [
    {
     "name": "stdout",
     "output_type": "stream",
     "text": [
      "5.000000000000002\n",
      "2.9504950495049505\n"
     ]
    }
   ],
   "source": [
    "theorical_value_mm1inf = rho_mm1inf/(1-rho_mm1inf)\n",
    "empirical_value_mm1inf = np.mean(X_mm1inf)\n",
    "print(theorical_value_mm1inf)\n",
    "print(empirical_value_mm1inf)\n"
   ]
  },
  {
   "cell_type": "markdown",
   "metadata": {},
   "source": [
    "### $M/M/1/K$\n",
    "\n",
    "Consider the case where the size of the capacity service $K$ is finite, i.e., where the system can only accommodate up to $K$ customers. In comparison with the previous case, any new customer trying to enter the system at a time instant $t$ will be systematically rejected if $X(t) = K$.\n",
    "\n",
    "3\\. a) Propose a variant of the function developed in 1.a) to simulate a trajectory of an $M/M/1/K$ process."
   ]
  },
  {
   "cell_type": "code",
   "execution_count": 87,
   "metadata": {},
   "outputs": [],
   "source": [
    "def run_mm1K(lambd: float, mu: float,K : int, rng, niter: int):\n",
    "    assert lambd>0\n",
    "    assert mu >0\n",
    "    nb_personne = 0\n",
    "    \n",
    "    T,X=[0],[nb_personne]\n",
    "    \n",
    "    \n",
    "    \n",
    "    for i in range(niter):\n",
    "        if X[-1] == 0:\n",
    "            T.append(T[-1]+rng.exponential(lambd))\n",
    "            X.append(X[-1]+1)\n",
    "        else:\n",
    "            Tb = rng.exponential(lambd)\n",
    "            Td = rng.exponential(mu)\n",
    "            if Tb>Td : \n",
    "                T.append(T[-1]+Tb)\n",
    "                X.append(min(X[-1]+1,K))\n",
    "            else:\n",
    "                T.append(T[-1]+Td)\n",
    "                X.append(X[-1]-1)\n",
    "    return(np.array(X),np.array(T))"
   ]
  },
  {
   "cell_type": "markdown",
   "metadata": {},
   "source": [
    "b) Display the trajectory of the process for $(\\lambda,\\mu, K) = (5, 6, 3)$."
   ]
  },
  {
   "cell_type": "code",
   "execution_count": 124,
   "metadata": {},
   "outputs": [
    {
     "data": {
      "text/plain": [
       "[<matplotlib.lines.Line2D at 0x1fb8afe6d60>]"
      ]
     },
     "execution_count": 124,
     "metadata": {},
     "output_type": "execute_result"
    },
    {
     "data": {
      "image/png": "[encoded data removed]",
      "text/plain": [
       "<Figure size 640x480 with 1 Axes>"
      ]
     },
     "metadata": {},
     "output_type": "display_data"
    }
   ],
   "source": [
    "lambd_mm1K = 5\n",
    "mu_mm1K = 6\n",
    "K=3\n",
    "rng_mm1K = np.random.default_rng(1200)\n",
    "rho_mm1K = lambd_mm1K/mu_mm1K\n",
    "\n",
    "X_mm1K,T_mm1K = run_mm1K(lambd_mm1K, mu_mm1K,K, rng, niter=100)\n",
    "plt.step(T_mm1K,X_mm1K)"
   ]
  },
  {
   "cell_type": "markdown",
   "metadata": {},
   "source": [
    "4\\. a) Display on the same graph the normalized histogram of $X(t)$ and the stationary distribution $\\pi$ defined as\n",
    "\n",
    "$$\n",
    "    (\\forall i \\in \\mathbb{N}), \\; \\pi(i) =\n",
    "    \\begin{cases}\n",
    "        \\frac{(1-\\rho)\\rho^i}{1-\\rho^{K+1}} & \\text{if } i \\in \\{0, 1, \\dotsc, K \\} \\\\\n",
    "        0 & \\text{otherwise.}\n",
    "    \\end{cases}\n",
    "$$\n",
    "\n",
    "What does this graph illustrate?"
   ]
  },
  {
   "cell_type": "code",
   "execution_count": 125,
   "metadata": {},
   "outputs": [
    {
     "data": {
      "text/plain": [
       "[<matplotlib.lines.Line2D at 0x1fb8b046eb0>]"
      ]
     },
     "execution_count": 125,
     "metadata": {},
     "output_type": "execute_result"
    },
    {
     "data": {
      "image/png": "[encoded data removed]",
      "text/plain": [
       "<Figure size 640x480 with 1 Axes>"
      ]
     },
     "metadata": {},
     "output_type": "display_data"
    }
   ],
   "source": [
    "stationary_distrib_mm1K = lambda i,rho_mm1K,K : ((1-rho_mm1K)*rho_mm1K**i) / (1-rho_mm1K**(K+1)) *(i<=K)\n",
    "valeurs_prises_mm1K= np.unique(X_mm1K)\n",
    "\n",
    "plt.hist(X_mm1K,bins=valeurs_prises_mm1K,density=True)\n",
    "plt.plot(valeurs_prises_mm1K,stationary_distrib_mm1K(valeurs_prises_mm1K,rho_mm1K,K))"
   ]
  },
  {
   "cell_type": "code",
   "execution_count": 128,
   "metadata": {},
   "outputs": [],
   "source": [
    "def theorical_mean(rho_mm1K,K):\n",
    "    \n",
    "        return np.sum([i*stationary_distrib_mm1K(i,rho_mm1K,K) for i in range(K+1)])"
   ]
  },
  {
   "cell_type": "markdown",
   "metadata": {},
   "source": [
    "b) Compute the theoretical average number of customers, and estimate its value using the function developed in 3.a). <!--(see TD3, exercise 3)-->"
   ]
  },
  {
   "cell_type": "code",
   "execution_count": 129,
   "metadata": {},
   "outputs": [
    {
     "name": "stdout",
     "output_type": "stream",
     "text": [
      "1.2742175856929956\n",
      "1.7227722772277227\n"
     ]
    }
   ],
   "source": [
    "theorical_value_mm1K = theorical_mean(rho_mm1K,K)\n",
    "empirical_value_mm1K = np.mean(X_mm1K)\n",
    "print(theorical_value_mm1K)\n",
    "print(empirical_value_mm1K)"
   ]
  },
  {
   "cell_type": "markdown",
   "metadata": {},
   "source": [
    "---\n",
    "## <a name=\"ex2\">Exercise 2: Drawing samples from the Ising model with the Metropolis-Hastings algorithm</a> [(&#8593;)](#content)\n",
    "\n",
    "Consider the 2D Ising model covered in Chapter 3, section 3 of the lecture notes, taken over an $N \\times N$ grid for $N = 32$, with $\\beta = 0.6$. <!-- Chapter 3, p.36 -->\n",
    "\n",
    "1\\. Implement a Metropolis-Hastings algorithm to draw samples from the 2D Ising model in the above configuration. Progressively display the evolution of the image as the algorithm evolves. Generate 10000 such variables, starting from a random configuration. Qualitatively comment the content of the last few generated samples, in comparison with the initial state.\n",
    "\n",
    "> *Note*: a) the matlpotlib examples given [here](http://louistiao.me/posts/notebooks/embedding-matplotlib-animations-in-jupyter-as-interactive-javascript-widgets/) can be useful\n",
    ">\n",
    "> b) given the relatively slow evolution from one iteration to another, you may display the current state of the image only once every 20 iterations."
   ]
  },
  {
   "cell_type": "code",
   "execution_count": 162,
   "metadata": {},
   "outputs": [],
   "source": [
    "N = 32\n",
    "beta = 10\n",
    "num_samples = 10000\n",
    "display_iter=100"
   ]
  },
  {
   "cell_type": "markdown",
   "metadata": {},
   "source": [
    "2\\. Decrease the value of the parameter $\\beta = 0.1$, and generate 10000 new variables with the algorithm implemented in 1. What is the influence of the parameter $\\beta$?"
   ]
  },
  {
   "cell_type": "code",
   "execution_count": 166,
   "metadata": {},
   "outputs": [],
   "source": [
    "from IPython.display import clear_output\n",
    "\n",
    "def metro_hasting_ising_2D(N,beta,num_samples,display_iter):\n",
    "    grid = 2*np.random.randint(2, size=(N,N))-1\n",
    "    B = [np.mean(grid)]\n",
    "\n",
    "    for i in range(num_samples):\n",
    "     \n",
    "        x = np.random.randint(N)\n",
    "        y = np.random.randint(N)\n",
    "\n",
    "        delta_E = 2 * grid[x,y] * (grid[(x+1)%N,y] + grid[(x-1)%N,y] + grid[x,(y+1)%N] + grid[x,(y-1)%N])\n",
    "        \n",
    "        if np.random.rand() < np.exp(-beta * delta_E):\n",
    "            grid[x,y] = -grid[x,y]\n",
    "\n",
    "        B.append(np.mean(grid))\n",
    "        if i % display_iter == 0:\n",
    "            clear_output(wait=True)\n",
    "            plt.imshow(grid, cmap=\"gray\", vmin=-1, vmax=1)\n",
    "            plt.show()\n",
    "\n",
    "    return(B)\n",
    "\n",
    "\n"
   ]
  },
  {
   "cell_type": "code",
   "execution_count": 168,
   "metadata": {},
   "outputs": [
    {
     "data": {
      "image/png": "[encoded data removed]",
      "text/plain": [
       "<Figure size 640x480 with 1 Axes>"
      ]
     },
     "metadata": {},
     "output_type": "display_data"
    }
   ],
   "source": [
    "B = metro_hasting_ising_2D(N,beta,num_samples,display_iter)"
   ]
  },
  {
   "cell_type": "markdown",
   "metadata": {},
   "source": [
    "---\n",
    "## <a name=\"ex3\">Exercise 3: Simulated annealing for the *traveling salesman* problem</a> [(&#8593;)](#content)\n",
    "\n",
    "This exercise will be focused on the implementation of a basic simulated annealing algorithm to minimize a function $f : E \\subset \\mathbb{N} \\rightarrow \\mathbb{R}$, where $E$ is finite. An application to the *traveling salesman* problem will then be considered to test the algorithm implementation. \n",
    "\n",
    "In general, a simulated annealing algorithm can be described as follows.\n",
    "\n",
    "---\n",
    "**Simulated annealing**\n",
    "\n",
    "Set $x_0 \\in E$, $T_0  > 0$. \n",
    "\n",
    "$n \\leftarrow 0$\n",
    "\n",
    "While $(n \\leq N)$ and $(T_n > T_{\\min})$\n",
    "\n",
    "  1. Draw a point $y \\sim Q(x_n, \\cdot)$ in the neighborhood of $x_n$, and $u \\sim \\mathscr{U}([0,1])$ (where $\\mathscr{U}$ is the uniform distribution)\n",
    "  \n",
    "  2. Compute the acceptance probability: \n",
    "  \n",
    "$$\n",
    "    p(f(x_n), f(y), T_n) = \n",
    "    \\begin{cases}\n",
    "        1 & \\text{if } f(y) < f(x_n) \\\\\n",
    "        e^{-(f(y) - f(x_n))/T_n} & \\text{otherwise.}\n",
    "    \\end{cases}\n",
    "$$\n",
    "  \n",
    "  3. Set $x_{n+1} = \\begin{cases}\n",
    "       y & \\text{if } u \\leq p(f(x_n), f(y), T_n) \\\\\n",
    "       x_n & \\text{otherwise.}\n",
    "       \\end{cases}$\n",
    "  4. Set $T_{n+1} = \\frac{T_0}{\\log(n+2)}$\n",
    "  5. $n \\leftarrow n+1$\n",
    "\n",
    "Return $x_N$, $\\bigl( f(x_n) \\bigr)_{1 \\leq n \\leq N}$\n",
    "\n",
    "> *Note*: in practice, the transition kernel $Q$, the neighborhood of the current point $x_n$ needs to be defined by the user, depending on the problem of interest. The definition of the other elements will be specified later for the *traveling salesman* problem.\n",
    "\n",
    "---"
   ]
  },
  {
   "cell_type": "markdown",
   "metadata": {},
   "source": [
    "1\\. Implement a generic `simulated_annealing` function to be run for a maximum of $N$ iterations.\n",
    "\n",
    "> *Note*: you can for instance create an object gathering several abstract methods to be instanciated (e.g., `draw_neighbour`, `acceptance_probability`, ...). Using functions and lambda functions is another possibility."
   ]
  },
  {
   "cell_type": "code",
   "execution_count": 337,
   "metadata": {},
   "outputs": [],
   "source": [
    "def acceptance_probability(f,y,xn,Tn):\n",
    "    return(1 if f(y)<f(xn) else np.exp(-(f(y)-f(xn))/Tn))\n",
    "\n",
    "def simulated_annealing(f,N,T_min,x0,T0):\n",
    "    \n",
    "    n = 0\n",
    "    \n",
    "    xn = x0\n",
    "    Tn=T0\n",
    "    \n",
    "    X,F=[],[]\n",
    "    \n",
    "    while n<N and Tn>T_min:\n",
    "        y = draw_neighbour(xn)\n",
    "        u = np.random.uniform()\n",
    "        xn = y if u <= acceptance_probability(f,y,xn,Tn) else xn\n",
    "        X.append(xn)\n",
    "        F.append(f(xn))\n",
    "        Tn = T0/np.log(n+2)\n",
    "        n=n+1\n",
    "    return(X,F)\n",
    "\n"
   ]
  },
  {
   "cell_type": "code",
   "execution_count": 340,
   "metadata": {},
   "outputs": [
    {
     "data": {
      "text/plain": [
       "[<matplotlib.lines.Line2D at 0x13be1feb850>]"
      ]
     },
     "execution_count": 340,
     "metadata": {},
     "output_type": "execute_result"
    },
    {
     "data": {
      "image/png": "[encoded data removed]",
      "text/plain": [
       "<Figure size 640x480 with 1 Axes>"
      ]
     },
     "metadata": {},
     "output_type": "display_data"
    }
   ],
   "source": [
    "def draw_neighbour(xn):\n",
    "    return(xn+0.005 if np.random.uniform()<0.5 else xn-0.005 )\n",
    "\n",
    "\n",
    "\n",
    "X ,F= simulated_annealing(f=lambda x:(x-1)**2,N=100000,T_min=0.0005,x0 = 10,T0 = 1)\n",
    "\n",
    "plt.plot(X)\n"
   ]
  },
  {
   "cell_type": "markdown",
   "metadata": {},
   "source": [
    "The algorithm implemented in 1. will be applied to the *traveling salesman* problem, briefly described in the following lines.\n",
    "\n",
    "---\n",
    "**The Traveling Salesman problem**\n",
    "\n",
    "A salesman must find the shortest route going only once through $K$ cities, represented by the points $C_1, \\dotsc, C_K$ in $\\mathbb{R}^2$. In this case, the set of all possible routes $E$ contains $K!$ elements, which excludes an exhaustive search as $K$ increases (*e.g.*, for $K \\geq 10$). For this application, the problem thus consists in finding a route, i.e., a permutation $\\sigma$ in the symmetric group $\\Sigma_K$, minimizing the function\n",
    "\n",
    "\\begin{equation}\n",
    "    \\sigma = \\bigl( \\sigma(1), \\dotsc , \\sigma(K) \\bigr) \\mapsto f(x) = \\sum_{i = 1}^{K} \\text{dist} (C_{\\sigma(i)}, C_{\\sigma(i+1)})\n",
    "\\end{equation}\n",
    "\n",
    "with the convention $\\sigma(K+1) = \\sigma(1)$. In this case, simulated annealing randomly explores $\\Sigma_K$ from one possible route to another located in its vicinity (which needs to be defined). \n",
    "\n",
    "In the following, the route $\\tilde{\\sigma} = \\bigl( \\tilde{\\sigma}(1), \\dotsc, \\tilde{\\sigma}(K) \\bigr)$ will be said to be a neighbour of $\\sigma = \\bigl( \\sigma(1), \\dotsc, \\sigma(K) \\bigr)$ if there exists $1 \\leq i < k \\leq K $ such that:\n",
    "\n",
    "\\begin{equation}\n",
    "   \\bigl( \\tilde{\\sigma}(1), \\dotsc ,\\tilde{\\sigma}(K) \\bigr) = \\bigl( \\sigma(1), \\dotsc, \\sigma(i−1), \\sigma(k), \\sigma(k−1), \\dotsc, \\sigma(i+1), \\sigma(i), \\sigma(k+1), \\dotsc, \\sigma(K) \\bigr). \n",
    "\\end{equation}\n",
    "\n",
    "For instance, for $K = 8$, the permutations $(1,2,3,4,8,7,6,5)$ and $(1,2,7,8,4,3,6,5)$ are neighbours (with $i = 3$, $k = 6$).\n",
    "\n",
    "---"
   ]
  },
  {
   "cell_type": "markdown",
   "metadata": {},
   "source": [
    "2\\. Fully instantiate the simulated annealing algorithm for the traveling salesman problem. Take the $\\ell_2$ norm for $\\text{dist}$."
   ]
  },
  {
   "cell_type": "code",
   "execution_count": 342,
   "metadata": {},
   "outputs": [],
   "source": [
    "def create_city(K,max_size_city,etalement):\n",
    "    grid=[]\n",
    "    while len(grid)<K:\n",
    "        grid.append(np.random.randint(max_size_city, size=2)+np.random.normal(scale = etalement/10,size = 2))\n",
    "    grid = np.array(grid)\n",
    "    return(grid)\n",
    "\n",
    "\n",
    "\n",
    "def distance_permut(sigma,dist,grid):\n",
    "    K=len(sigma)\n",
    "    return(np.sum([ dist(grid[sigma[j]],grid[sigma[(j+1)%K]]) for j in range(len(grid))]))\n",
    "\n",
    "def generate_indices(K):\n",
    "    i = np.random.randint(0, K)\n",
    "    k = i\n",
    "    while k == i:\n",
    "        k = np.random.randint(0, K)\n",
    "    return min(i,k), max(i,k)\n",
    "\n",
    "def draw_neighbour(sigman):\n",
    "    sigmanp1 = np.copy(sigman)\n",
    "    i,k = generate_indices(len(sigman))\n",
    "    sigmanp1[i:k+1] = np.flip(sigmanp1[i:k+1])\n",
    "    return(sigmanp1)\n",
    "\n"
   ]
  },
  {
   "cell_type": "code",
   "execution_count": 353,
   "metadata": {},
   "outputs": [
    {
     "data": {
      "text/plain": [
       "<matplotlib.collections.PathCollection at 0x13be0c05fd0>"
      ]
     },
     "execution_count": 353,
     "metadata": {},
     "output_type": "execute_result"
    },
    {
     "data": {
      "image/png": "[encoded data removed]",
      "text/plain": [
       "<Figure size 640x480 with 1 Axes>"
      ]
     },
     "metadata": {},
     "output_type": "display_data"
    }
   ],
   "source": [
    "K = 50\n",
    "max_size_city = 10\n",
    "etalement = 2\n",
    "\n",
    "grid= create_city(K,max_size_city,etalement)\n",
    "\n",
    "plt.grid()\n",
    "plt.scatter(grid[:,0],grid[:,1],marker = \"P\",color = \"red\")\n",
    "\n",
    "\n"
   ]
  },
  {
   "cell_type": "code",
   "execution_count": 358,
   "metadata": {},
   "outputs": [],
   "source": [
    "dist = lambda u,v : np.linalg.norm(u-v,2)\n",
    "sigma = np.random.permutation(K)\n",
    "\n",
    "f=lambda x : distance_permut(x,dist,grid) \n",
    "N=1000\n",
    "T_min=0.005\n",
    "x0 = sigma\n",
    "T0 = 1\n",
    "\n",
    "\n",
    "#  \n",
    "X,F = simulated_annealing(f,N,T_min,x0,T0)"
   ]
  },
  {
   "cell_type": "code",
   "execution_count": 359,
   "metadata": {},
   "outputs": [
    {
     "data": {
      "text/plain": [
       "[<matplotlib.lines.Line2D at 0x13be1f72490>]"
      ]
     },
     "execution_count": 359,
     "metadata": {},
     "output_type": "execute_result"
    },
    {
     "data": {
      "image/png": "[encoded data removed]",
      "text/plain": [
       "<Figure size 640x480 with 1 Axes>"
      ]
     },
     "metadata": {},
     "output_type": "display_data"
    }
   ],
   "source": [
    "plt.plot(F)"
   ]
  },
  {
   "cell_type": "markdown",
   "metadata": {},
   "source": [
    "3\\. Test your algorithm for $K = 50$ randomly located cities (i.e., generate the values of $(C_k)_{1 \\leq k \\leq K}$ randomly). Display both the evolution of the cost function with the iterations and the final route. Empirically tune the value $T_0$ to improve the result of the algorithm.\n",
    "\n",
    "> *Notes*:\n",
    ">\n",
    "> a) for reproducibility, set the random seed of the random number generator to a specific value, *e.g.*, 0;\n",
    ">\n",
    "> b) to generate an initial path $x_0$, you can for instance randomly select a starting city $k$, and define the next city sequentially by taking its *nearest neighbour*;\n",
    ">\n",
    "> c) to display the trajectory, you can use `matplotlib.pyplot.arrow` to display an arrow between two consecutive points."
   ]
  },
  {
   "cell_type": "code",
   "execution_count": null,
   "metadata": {},
   "outputs": [],
   "source": []
  }
 ],
 "metadata": {
  "kernelspec": {
   "display_name": "Python 3 (ipykernel)",
   "language": "python",
   "name": "python3"
  },
  "language_info": {
   "codemirror_mode": {
    "name": "ipython",
    "version": 3
   },
   "file_extension": ".py",
   "mimetype": "text/x-python",
   "name": "python",
   "nbconvert_exporter": "python",
   "pygments_lexer": "ipython3",
   "version": "3.9.13"
  },
  "vscode": {
   "interpreter": {
    "hash": "e8fe602c0f5c386b649ce7a1346b7b6de6c4ccf7371f3c0eee3e27f41427a2f8"
   }
  }
 },
 "nbformat": 4,
 "nbformat_minor": 4
}
